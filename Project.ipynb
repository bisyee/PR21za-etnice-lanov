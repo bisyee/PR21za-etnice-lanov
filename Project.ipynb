{
 "cells": [
  {
   "cell_type": "markdown",
   "metadata": {},
   "source": [
    "# 1. Introduction"
   ]
  },
  {
   "cell_type": "markdown",
   "metadata": {},
   "source": [
    "## 1.1 Members\n",
    " - Ardit Nela\n",
    " - Bisera Nikoloska\n",
    " - Lovro Oražem\n",
    " - Grigor Ristov"
   ]
  },
  {
   "cell_type": "markdown",
   "metadata": {},
   "source": [
    "## 1.2 Goals\n",
    "The past year we have been faced with a very difficult period with the first pandemic many of us have seen. With that we have a lot of problems, mainly the amount of hospitilizaed people. With our project we hope to show the amount of people affected because of this horrible pandemic, depending on the gender, age, place of residence and many other different parameters."
   ]
  },
  {
   "cell_type": "markdown",
   "metadata": {},
   "source": [
    "## 1.3 Technoligies used\n",
    "Regarding the technologies we used. We are using Python, pcaxis files for the source, for libraries numpy, pandas, matplotlib for mapping out graphs and making the data we recieve usable, and for reading the pcaxis file we used an external library pyaxis."
   ]
  },
  {
   "cell_type": "markdown",
   "metadata": {},
   "source": [
    "## 1.4 Data processing\n",
    "With regards to the data, we got it from the Slovenian Ministry of Public Administration, from podatki.gov with the name \"Število hospitalizacij zaradi bolezni, po spolu in statističnih regijah, Slovenija, letno\". The data we got was in a pcaxis file format we later reprocessed it using the pyaxis library and made it usable."
   ]
  },
  {
   "cell_type": "markdown",
   "metadata": {},
   "source": [
    "# 2. Data analysis"
   ]
  },
  {
   "cell_type": "code",
   "execution_count": null,
   "metadata": {},
   "outputs": [],
   "source": [
    "from pyaxis import pyaxis\n",
    "import pandas as pd\n",
    "import numpy as np\n",
    "import matplotlib.pyplot as plt\n",
    "import plotly\n",
    "import json\n",
    "import plotly.express as px\n",
    "\n",
    "%matplotlib inline\n",
    "plt.set_loglevel('WARNING')"
   ]
  },
  {
   "cell_type": "markdown",
   "metadata": {},
   "source": [
    "## 2.1 First dataset\n",
    "We begin by looking at the \"Število hospitalizacij zaradi bolezni, po glavnih diagnozah (MKB-10, poglavja) in spolu, Slovenija, letno\" dataset. We load it in and see what it contains."
   ]
  },
  {
   "cell_type": "code",
   "execution_count": null,
   "metadata": {},
   "outputs": [],
   "source": [
    "URL = \"https://podatki.nijz.si/DB/NIJZ%20podatkovni%20portal/4%20Zdravstveno%20varstvo/06%20Bolni%C5%A1ni%C4%8Dne%20obravnave/1%20Hospitalizacije%20zaradi%20bolezni/BO04.px\"\n",
    "px = pyaxis.parse(URL, encoding='ANSI')\n",
    "data = px['DATA']\n",
    "data[\"DATA\"] = data[\"DATA\"].astype(int)\n",
    "\n",
    "print(data.head(20))"
   ]
  },
  {
   "cell_type": "markdown",
   "metadata": {},
   "source": [
    "Initially we decided to look for correlations in the data. For this we used the built-in pearson function."
   ]
  },
  {
   "cell_type": "code",
   "execution_count": null,
   "metadata": {},
   "outputs": [],
   "source": [
    "diagnosesArr = data[\"Poglavje glavne diagnoze\"].astype(\"category\").cat.codes\n",
    "diagnosesArr = diagnosesArr.to_numpy()\n",
    "hospitalizations = data[\"DATA\"].to_numpy()\n",
    "corr = np.corrcoef(diagnosesArr, hospitalizations)\n",
    "print(\"Correlation between diagnoses and hospitalizations\", corr[0][1])\n",
    "\n",
    "genderArr = data[\"Spol\"].astype(\"category\").cat.codes\n",
    "genderArr = genderArr.to_numpy()\n",
    "corr = np.corrcoef(genderArr, hospitalizations)\n",
    "print(\"Correlation between gender and hospitalizations\", corr[0][1])"
   ]
  },
  {
   "cell_type": "markdown",
   "metadata": {},
   "source": [
    "Then, we decided to find the 5 diseases which result in the most hospitalizations in total."
   ]
  },
  {
   "cell_type": "code",
   "execution_count": null,
   "metadata": {},
   "outputs": [],
   "source": [
    "diagnoses = dict()\n",
    "for index, row in data.iterrows():\n",
    "    if row[\"Poglavje glavne diagnoze\"] not in diagnoses:\n",
    "        diagnoses[row[\"Poglavje glavne diagnoze\"]] = 0\n",
    "    diagnoses[row[\"Poglavje glavne diagnoze\"]] += int(row[\"DATA\"])\n",
    "\n",
    "\n",
    "diagnoses = dict(sorted(diagnoses.items(), key=lambda item: item[1]))\n",
    "dKeys = list(diagnoses.keys())[-6:-1]\n",
    "dVals = list(diagnoses.values())[-6:-1]\n",
    "diagnoses = dict(zip(dKeys, dVals))\n",
    "print(diagnoses)"
   ]
  },
  {
   "cell_type": "markdown",
   "metadata": {},
   "source": [
    "We define a function that will plot the number of hospitalizations by gender and diagnosis throughout the years."
   ]
  },
  {
   "cell_type": "code",
   "execution_count": null,
   "metadata": {},
   "outputs": [],
   "source": [
    "def graphOverTime(diagnosis):\n",
    "    tempData1 = data[data[\"Spol\"] == \"Moški\"];\n",
    "    tempData2 = data[data[\"Spol\"] == \"Ženski\"];\n",
    "    tempData1 = tempData1[tempData1[\"Poglavje glavne diagnoze\"] == diagnosis];\n",
    "    tempData2 = tempData2[tempData2[\"Poglavje glavne diagnoze\"] == diagnosis];\n",
    "    plt.figure(figsize=(10, 5));\n",
    "    plt.xticks(rotation=\"vertical\");\n",
    "    plt.title(diagnosis);\n",
    "    plt.plot(tempData1[\"Leto\"], tempData1[\"DATA\"], label=\"Moški\");\n",
    "    plt.plot(tempData2[\"Leto\"], tempData2[\"DATA\"], label=\"Ženski\");\n",
    "    plt.legend();\n",
    "    #plt.show()"
   ]
  },
  {
   "cell_type": "code",
   "execution_count": null,
   "metadata": {},
   "outputs": [],
   "source": [
    "import warnings\n",
    "warnings.filterwarnings(\"ignore\");\n",
    "\n",
    "for diagnosis in diagnoses.keys():\n",
    "    graphOverTime(diagnosis);"
   ]
  },
  {
   "cell_type": "markdown",
   "metadata": {},
   "source": [
    "# Number of people in hospitals by genders and statistical regions"
   ]
  },
  {
   "cell_type": "markdown",
   "metadata": {},
   "source": [
    "We used another dataset where we get the hospital occupancy based on genders and the statistical regions. We have 13 different statistical regions and 4 different genders that are tracked from year 2003 till 2019."
   ]
  },
  {
   "cell_type": "code",
   "execution_count": null,
   "metadata": {},
   "outputs": [],
   "source": [
    "from pyaxis import pyaxis\n",
    "import matplotlib.pyplot as plt\n",
    "import numpy as np\n",
    "\n",
    "URL = \"https://podatki.nijz.si/DB/NIJZ%20podatkovni%20portal/4%20Zdravstveno%20varstvo/06%20Bolni%C5%A1ni%C4%8Dne%20obravnave/1%20Hospitalizacije%20zaradi%20bolezni/BO01.px\"\n",
    "px = pyaxis.parse(URL, encoding='ANSI')\n",
    "data = px['DATA']\n",
    "\n",
    "print(data)"
   ]
  },
  {
   "cell_type": "code",
   "execution_count": null,
   "metadata": {},
   "outputs": [],
   "source": [
    "spol = data['Spol'].values\n",
    "dataset = data['DATA'].values\n",
    "regija = data['Statistièna regija'].values\n",
    "leto = data['Leto'].values"
   ]
  },
  {
   "cell_type": "code",
   "execution_count": null,
   "metadata": {},
   "outputs": [],
   "source": [
    "z=0\n",
    "spollist= []\n",
    "for i in spol:\n",
    "   if i  in spollist:\n",
    "      z+=1\n",
    "   else:\n",
    "        spollist.append(i)"
   ]
  },
  {
   "cell_type": "code",
   "execution_count": null,
   "metadata": {},
   "outputs": [],
   "source": [
    "porazdelitev1 = [0] * len(spollist)\n",
    "diction = {}\n",
    "i=0\n",
    "for spol1 in spollist:\n",
    "    if spol1 != ('Spol - SKUPAJ'):\n",
    "        for j in range(0,len(spol)):\n",
    "            if spol1 == spol[j]:\n",
    "                porazdelitev1[i] += int(dataset[j])\n",
    "        diction[spol1] = porazdelitev1[i]\n",
    "        i+=1"
   ]
  },
  {
   "cell_type": "markdown",
   "metadata": {},
   "source": [
    "We compared the occupancy based on genders and we can see that in the hospital in the past 15 years, more percentage of the occupancy goes to women also undetermined and unknown are not significally important\n"
   ]
  },
  {
   "cell_type": "code",
   "execution_count": null,
   "metadata": {},
   "outputs": [],
   "source": [
    "plt.bar(list(diction.keys()), list(diction.values()))\n",
    "plt.show()"
   ]
  },
  {
   "cell_type": "code",
   "execution_count": null,
   "metadata": {},
   "outputs": [],
   "source": [
    "letolist =[]\n",
    "z=0\n",
    "for i in leto:\n",
    "    if i  in letolist:\n",
    "      z+=1\n",
    "    else:\n",
    "        letolist.append(i)\n",
    "letolist.sort()"
   ]
  },
  {
   "cell_type": "code",
   "execution_count": null,
   "metadata": {},
   "outputs": [],
   "source": [
    "zenski=dict()\n",
    "moski=dict()\n",
    "\n",
    "for letoq in letolist:\n",
    "    count=0\n",
    "    count1=0\n",
    "    for j in range(0,len(leto)-1):\n",
    "        if letoq == leto[j] and spol[j] == 'Ženski' and regija[j] == \"SLOVENIJA\":\n",
    "            count += int(dataset[j])\n",
    "        if letoq == leto[j] and spol[j] == 'Moški'  and regija[j] == \"SLOVENIJA\":\n",
    "            count1 += int(dataset[j])    \n",
    "    letoq=int(letoq)\n",
    "    zenski[letoq] = count\n",
    "    moski[letoq] = count1\n",
    "zenski = dict(sorted(zenski.items()))\n",
    "moski = dict(sorted(moski.items()))\n",
    "print(zenski)\n",
    "print(moski)"
   ]
  },
  {
   "cell_type": "markdown",
   "metadata": {},
   "source": [
    "In this part we created a graph of the previous 15 years to compare the occupancy between the men and women and we can see that almost every year the occupancy by the women is higher than the occupancy of the men, also there are years that are quite close almost equal\n"
   ]
  },
  {
   "cell_type": "code",
   "execution_count": null,
   "metadata": {},
   "outputs": [],
   "source": [
    "plt.plot(list(zenski.keys()), list(zenski.values()),label = \"Zenski\")\n",
    "plt.plot(list(moski.keys()), list(moski.values()),label = \"Moski\")\n",
    "plt.xlabel('Year')\n",
    "plt.ylabel('Number of women/men in hospitals')\n",
    "plt.legend()\n",
    "plt.show()"
   ]
  },
  {
   "cell_type": "code",
   "execution_count": null,
   "metadata": {},
   "outputs": [],
   "source": [
    "dictot = dict()\n",
    "for letoq in letolist:\n",
    "    counttot=0\n",
    "    for j in range(0,len(leto)):\n",
    "        if letoq == leto[j] and spol[j] == 'Spol - SKUPAJ' and regija[j]== 'SLOVENIJA':\n",
    "            counttot += int(dataset[j])\n",
    "    letoq=int(letoq)\n",
    "    dictot[letoq] = counttot\n",
    "dictot = dict(sorted(dictot.items()))"
   ]
  },
  {
   "cell_type": "markdown",
   "metadata": {},
   "source": [
    "We also plotted a graph of the hospital occupancy over the past 15 years and we can see that the peak of the hospital occupancy is in 2015 and we can see that the least number of used beds are in 2003"
   ]
  },
  {
   "cell_type": "code",
   "execution_count": null,
   "metadata": {},
   "outputs": [],
   "source": [
    "plt.plot(list(dictot.keys()), list(dictot.values()),label = \"Slovenija skupaj\")\n",
    "plt.ylabel('Number of people in hospital')\n",
    "plt.legend()\n",
    "plt.show()"
   ]
  },
  {
   "cell_type": "code",
   "execution_count": null,
   "metadata": {},
   "outputs": [],
   "source": [
    "regijalist = []\n",
    "for i in regija:\n",
    "    regijalist.append(i)\n",
    "regijalist = list(set(regijalist))\n",
    "print(regijalist)"
   ]
  },
  {
   "cell_type": "code",
   "execution_count": null,
   "metadata": {},
   "outputs": [],
   "source": [
    "countreg=0\n",
    "dictreg = dict()\n",
    "\n",
    "for regija1 in regijalist:\n",
    "    if regija1 != ('SLOVENIJA'):\n",
    "        for j in range(0,len(regija)):\n",
    "            if regija1 == regija[j]:\n",
    "                countreg += int(dataset[j])\n",
    "        dictreg[regija1] = countreg\n",
    "        countreg=0\n",
    "\n",
    "# statistical region populations\n",
    "region_population = dict()\n",
    "region_population[\"Pomurska\"] = 114287\n",
    "region_population[\"Podravska\"] = 324104\n",
    "region_population[\"Koroška\"] = 70588\n",
    "region_population[\"Savinjska\"] = 261851\n",
    "region_population[\"Zasavska\"] = 41606\n",
    "region_population[\"Posavska\"] = 70067\n",
    "region_population[\"Jugovzhodna Slovenija\"] = 144032\n",
    "region_population[\"Primorsko-notranjska\"] = 52544\n",
    "region_population[\"Osrednjeslovenska\"] = 564527\n",
    "region_population[\"Gorenjska\"] = 204670\n",
    "region_population[\"Goriška\"] = 117616\n",
    "region_population[\"Obalno-kraška\"] = 115016\n",
    "region_population[\"Tujina\"] = 160000\n",
    "\n",
    "relative_dict = dict()\n",
    "for region in dictreg.keys():\n",
    "    relative_dict[region] = dictreg[region] / region_population[region]\n",
    "\n",
    "print(dictreg)\n",
    "print(relative_dict)"
   ]
  },
  {
   "cell_type": "markdown",
   "metadata": {},
   "source": [
    "In this part we made a comparison of the occupancy between the statistical regions and we can see that the region \"Osrednjoslovenska\" is the most occupied, after it come \"Podravska\" and \"Savinjska\". The least occupied is the statistical region \"Tujina\" which says that most of the slovenian people are treated in slovenian hospitals"
   ]
  },
  {
   "cell_type": "code",
   "execution_count": null,
   "metadata": {},
   "outputs": [],
   "source": [
    "index = np.arange(len(list(dictreg.keys())))\n",
    "plt.bar(list(dictreg.keys()), list(dictreg.values()))\n",
    "plt.xticks(index, list(dictreg.keys()) , fontsize=10, rotation=75)\n",
    "plt.show()"
   ]
  },
  {
   "cell_type": "code",
   "execution_count": null,
   "metadata": {},
   "outputs": [],
   "source": [
    "countgrm=0\n",
    "countgrz=0\n",
    "dictgr = dict()\n",
    "for regija1 in regijalist:\n",
    "    if regija1 != ('SLOVENIJA'):\n",
    "        for j in range(0,len(regija)):\n",
    "            if regija1 == regija[j] and spol[j] == \"Ženski\":\n",
    "                countgrz += int(dataset[j])\n",
    "            if regija1 == regija[j] and spol[j] == \"Moški\":\n",
    "                countgrm += int(dataset[j])      \n",
    "        dictgr[regija1] = (countgrz, countgrm)\n",
    "        countgrz=0\n",
    "        countgrm=0\n",
    "print(dictgr)\n",
    "print(len(dictgr))"
   ]
  },
  {
   "cell_type": "markdown",
   "metadata": {},
   "source": [
    "Also we compared the males and females based on the statistical regions and we can see that in almost every region there are more women in the hospital than the men "
   ]
  },
  {
   "cell_type": "code",
   "execution_count": null,
   "metadata": {},
   "outputs": [],
   "source": [
    "m = []\n",
    "z = []\n",
    "\n",
    "for val in dictgr.values():\n",
    "    m.append(val[1])\n",
    "    z.append(val[0])\n",
    "X = np.arange(len(m))\n",
    "plt.bar( X+ 0.00, m, color = 'b', width = 0.25, label=\"Moski\")\n",
    "plt.bar(X + 0.25, z, color = 'g', width = 0.25, label = \"Zenski\")\n",
    "plt.xticks(X, list(dictgr.keys()) , fontsize=10, rotation=75)\n",
    "plt.legend()\n",
    "plt.show()"
   ]
  },
  {
   "cell_type": "code",
   "execution_count": null,
   "metadata": {},
   "outputs": [],
   "source": [
    "slovenia_map = json.load(open(\"map.json\", 'r', encoding='utf-8'))\n",
    "\n",
    "id_dict = dict()\n",
    "for feature in slovenia_map[\"features\"]:\n",
    "    id_dict[feature[\"properties\"][\"name_1\"]] = feature[\"id\"]\n",
    "\n",
    "map_data = pd.read_csv(\"data.csv\")\n",
    "map_data[\"id\"] = map_data[\"Region\"].apply(lambda x:id_dict[x])"
   ]
  },
  {
   "cell_type": "code",
   "execution_count": null,
   "metadata": {},
   "outputs": [],
   "source": [
    "fig = px.choropleth(map_data, locations=\"id\", geojson=slovenia_map, color=\"Value\", scope=\"europe\",\n",
    "                   hover_name=\"Region\")\n",
    "fig.update_geos(fitbounds=\"locations\", visible=False)\n",
    "fig.show()"
   ]
  }
 ],
 "metadata": {
  "kernelspec": {
   "display_name": "Python 3",
   "language": "python",
   "name": "python3"
  },
  "language_info": {
   "codemirror_mode": {
    "name": "ipython",
    "version": 3
   },
   "file_extension": ".py",
   "mimetype": "text/x-python",
   "name": "python",
   "nbconvert_exporter": "python",
   "pygments_lexer": "ipython3",
   "version": "3.8.5"
  }
 },
 "nbformat": 4,
 "nbformat_minor": 4
}
